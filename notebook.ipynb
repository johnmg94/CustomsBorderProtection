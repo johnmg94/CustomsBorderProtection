{
 "cells": [
  {
   "cell_type": "code",
   "execution_count": null,
   "metadata": {},
   "outputs": [],
   "source": [
    "from dotenv import load_dotenv\n",
    "import os\n",
    "import dotenv\n",
    "import pandas as pd\n",
    "import matplotlib.pyplot as plt\n",
    "import numpy as np\n",
    "import matplotlib.transforms as mtransforms\n",
    "import matplotlib.ticker as ticker\n"
   ]
  },
  {
   "cell_type": "code",
   "execution_count": null,
   "metadata": {},
   "outputs": [],
   "source": [
    "file_path = os.environ.get('FILE_PATH')\n",
    "df = pd.read_csv(file_path)\n",
    "\n",
    "# Plot\n",
    "# https://matplotlib.org/stable/gallery/showcase/stock_prices.html#sphx-glr-gallery-showcase-stock-prices-py\n",
    "fig, ax = plt.subplots(1, 2, figsize=(12, 6), layout='constrained')\n",
    "line, = ax.plot(df_gdp_ma[\"date\"], df_gdp_ma[\"value\"], lw=7)\n",
    "\n",
    "# Title\n",
    "fig.suptitle(\"GDP 7-Day Moving Average\", ha=\"center\")\n",
    "\n",
    "# Grid\n",
    "ax.grid(True, 'major', 'both', ls='--', lw=.05, c='k', alpha=.3)\n",
    "\n",
    "ax.tick_params(\n",
    "    axis='both', which='both', labelsize='large', \n",
    "    bottom=False, top=False, labelbottom=True, \n",
    "    left=False, right=False, labelleft=True\n",
    ")\n",
    "\n",
    "# Format x-axis\n",
    "# ax.set_xticks(df_gdp_month[\"month\"][::48])\n",
    "# plt.xticks(rotation=45, ha='right')\n",
    "# ax.yaxis.set_major_formatter(ticker.StrMethodFormatter('{x:,.2f}'))\n",
    "\n",
    "# Make only left and bottom spines visible\n",
    "ax.spines['top'].set_visible(False)\n",
    "ax.spines['right'].set_visible(False)\n",
    "\n",
    "plt.show()\n",
    "\n",
    "ax.yaxis.set_major_formatter(ticker.StrMethodFormatter('{x:,.2f}'))"
   ]
  }
 ],
 "metadata": {
  "kernelspec": {
   "display_name": "venv",
   "language": "python",
   "name": "python3"
  },
  "language_info": {
   "name": "python",
   "version": "3.12.6"
  }
 },
 "nbformat": 4,
 "nbformat_minor": 2
}
